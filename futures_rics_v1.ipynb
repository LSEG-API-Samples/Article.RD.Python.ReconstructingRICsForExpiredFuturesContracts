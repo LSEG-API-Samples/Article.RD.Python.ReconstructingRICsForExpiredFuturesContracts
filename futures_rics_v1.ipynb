{
 "cells": [
  {
   "cell_type": "markdown",
   "id": "cfb60b57-7757-465d-999b-3843dc78be88",
   "metadata": {},
   "source": [
    "## Install and Import Modules"
   ]
  },
  {
   "cell_type": "code",
   "execution_count": null,
   "id": "d8f546b3-a8a4-4a0a-ac14-76aca170741e",
   "metadata": {},
   "outputs": [],
   "source": [
    "!pip install refinitiv-data"
   ]
  },
  {
   "cell_type": "code",
   "execution_count": 39,
   "id": "cea40e34-2dae-4b65-ad05-16da91b9794c",
   "metadata": {},
   "outputs": [],
   "source": [
    "import refinitiv.data as rd\n",
    "from refinitiv.data.content import search\n",
    "import pandas as pd"
   ]
  },
  {
   "cell_type": "code",
   "execution_count": 40,
   "id": "b83168b9-61a3-429d-98b1-3707a61ad930",
   "metadata": {},
   "outputs": [
    {
     "data": {
      "text/plain": [
       "<refinitiv.data.session.Definition object at 0x132a6a5e0 {name='workspace'}>"
      ]
     },
     "execution_count": 40,
     "metadata": {},
     "output_type": "execute_result"
    }
   ],
   "source": [
    "#open session to connect RD Libraries\n",
    "rd.open_session()"
   ]
  },
  {
   "cell_type": "markdown",
   "id": "01540e5b-b99f-4b2a-835d-626563953600",
   "metadata": {},
   "source": [
    "## Build Futurs RIC constructor object"
   ]
  },
  {
   "cell_type": "markdown",
   "id": "20fe9235-d1ed-4f99-b0c5-8412e5eaf525",
   "metadata": {},
   "source": [
    "#### Inrtroduce AssetExchanges object to store Exchange-Futures pairs and month codes"
   ]
  },
  {
   "cell_type": "code",
   "execution_count": 41,
   "id": "ac43d3ec-1c66-4f4b-87a6-665540cb622c",
   "metadata": {},
   "outputs": [],
   "source": [
    "from dataclasses import dataclass\n",
    "\n",
    "@dataclass\n",
    "class AssetExchanges:\n",
    "    \n",
    "    data = {\n",
    "         'EUX': ['FGBS','FOAT','FGBM','FGBL','FGBX','FDX','FBTP','STXE','FSMI','FBTS','FMTW'],\n",
    "         'CBT': ['BO', 'FV', 'SM','TU','TY','US','W', 'AUL','RR','YC','KW','YM','S'],\n",
    "         'IEU': ['LCO', 'FLG', 'FFI', 'SON3', 'LGO', 'FEIT', '0FSS'],\n",
    "         'IMM': ['AD', 'ED', 'NE', 'SF', 'JY', 'BP', 'CD'],\n",
    "         'IUS': ['DX', 'KC', 'MEM', 'CC', 'CT', 'SB'],\n",
    "         'NYM': ['S', 'PA', 'PL', 'RB', 'HO', 'CL'],\n",
    "         'IOM': ['NIY', 'NQ', 'RTY', 'ES'],\n",
    "         'BMF': ['DOL', 'DIJ', 'IND'],\n",
    "         'SFE': ['YBA', 'YTC', 'YAP'],\n",
    "         'SIM': ['STWN', 'SIN', 'SFC'],\n",
    "         'CME': ['FC', 'LH', 'LC'],\n",
    "         'CMX': ['SI', 'HG', 'GC'],\n",
    "         'OSA': ['JGB', 'JNI', 'JTI'],\n",
    "         'KFE': ['10TB', 'KTB', 'KS'],\n",
    "         'MON': ['BAX', 'CGB', 'SXM'],\n",
    "         'HFE': ['HCEI', 'HSI'],\n",
    "         'CBF': ['VX'],\n",
    "         'EDX': ['CFI2'],\n",
    "         'GEM': ['MP'],\n",
    "         'IST': ['XU030'],\n",
    "         'JNB': ['ALSI'],\n",
    "         'LME': ['MCU'],\n",
    "         'MNP': ['FCE'],\n",
    "         'MRV': ['MFXI'],\n",
    "         'RTF': ['RIRTS'],    \n",
    "         'WSE': ['FW2020']}\n",
    "    month_codes =  {'F':'01', 'G':'02', 'H':'03', 'J':'04', 'K':'05', 'M':'06', 'N':'07', 'Q':'08', 'U':'09', 'V':'10', 'X':'11', 'Z':'12'}"
   ]
  },
  {
   "cell_type": "markdown",
   "id": "c584ea0b-7d0d-4dba-b687-9120ffcbaf86",
   "metadata": {},
   "source": [
    "#### Introduce FururesRICs object for RIC construction"
   ]
  },
  {
   "cell_type": "code",
   "execution_count": 42,
   "id": "87f703bf-1e3a-4e7b-8745-75ba887566df",
   "metadata": {},
   "outputs": [],
   "source": [
    "class FuturesRICs:\n",
    "    def __init__(self, asset_exchanges):\n",
    "        self.asset_exchanges =  AssetExchanges.data\n",
    "        self.month_codes = AssetExchanges.month_codes\n",
    "        \n",
    "    def get_future_ric(self, underlying, month_code, year):\n",
    "        exchange = self._get_exchange_code(underlying)\n",
    "        if exchange:\n",
    "            \n",
    "            query = f'{underlying}{month_code}{str(year)[-1]}*'\n",
    "            filter_criteria = f\"ExchangeCode eq '{exchange}' and RCSAssetCategoryLeaf eq 'Future'\" \\\n",
    "            +  f\" and ExpiryDate ge {year-1}-{self.month_codes[month_code]}-28 and ExpiryDate le {year}-{self.month_codes[month_code]}-28 \" \\\n",
    "            +  f\" and RIC xeq '{query[:-1]}' or RIC xeq '{query[:-1]}^{str(year)[-2]}'\"\n",
    "            \n",
    "            response = self._search_future_ric(query, filter_criteria)\n",
    "            if not response.empty:\n",
    "                return response\n",
    "            else:\n",
    "                print(f'No future with specified parameters for {underlying}')\n",
    "        else:\n",
    "            print(f'No underlying exchange is set for {underlying}')\n",
    "    \n",
    "    def _search_future_ric(self, query, filter_criteria):\n",
    "\n",
    "        response = search.Definition(\n",
    "        view = search.Views.SEARCH_ALL,\n",
    "        query=query,\n",
    "        select=\"DocumentTitle, RIC, ExchangeCode, ExpiryDate, RCSUnderlyingMarket\" +\n",
    "                \"UnderlyingQuoteName, UnderlyingQuoteRIC, RCSAssetCategoryLeaf, RetireDate\",\n",
    "        filter=filter_criteria).get_data().data.df\n",
    "        \n",
    "        return response\n",
    "    \n",
    "    def _get_exchange_code(self, underlying):\n",
    "        for exchange, asset in self.asset_exchanges.items():\n",
    "            if underlying in asset:\n",
    "                return exchange"
   ]
  },
  {
   "cell_type": "markdown",
   "id": "7eda72bc-d63b-4230-93be-62d4cc99361c",
   "metadata": {},
   "source": [
    "## Initilize the FuturesRICs object and get futures RICs"
   ]
  },
  {
   "cell_type": "markdown",
   "id": "31d855b6-650c-47f4-a655-bedd1085ce44",
   "metadata": {},
   "source": [
    "#### Construct futures RIC"
   ]
  },
  {
   "cell_type": "code",
   "execution_count": 43,
   "id": "f11fd2f6-ccfa-471f-baef-62f71fe5d890",
   "metadata": {},
   "outputs": [],
   "source": [
    "fr = FuturesRICs(AssetExchanges)"
   ]
  },
  {
   "cell_type": "code",
   "execution_count": null,
   "id": "37c8ab38-cf07-4a5d-8d93-1886fac780a4",
   "metadata": {},
   "outputs": [],
   "source": [
    "fr.get_future_ric('LCO', 'H', 2022)"
   ]
  },
  {
   "cell_type": "markdown",
   "id": "2dd88b87-528c-4dbb-b01a-dbebcf2ed15d",
   "metadata": {},
   "source": [
    "#### Get pricing data"
   ]
  },
  {
   "cell_type": "code",
   "execution_count": 38,
   "id": "5f754ed1-9e73-4e72-aa97-88c660c7c67d",
   "metadata": {},
   "outputs": [
    {
     "data": {
      "text/html": [
       "<div>\n",
       "<style scoped>\n",
       "    .dataframe tbody tr th:only-of-type {\n",
       "        vertical-align: middle;\n",
       "    }\n",
       "\n",
       "    .dataframe tbody tr th {\n",
       "        vertical-align: top;\n",
       "    }\n",
       "\n",
       "    .dataframe thead th {\n",
       "        text-align: right;\n",
       "    }\n",
       "</style>\n",
       "<table border=\"1\" class=\"dataframe\">\n",
       "  <thead>\n",
       "    <tr style=\"text-align: right;\">\n",
       "      <th></th>\n",
       "    </tr>\n",
       "  </thead>\n",
       "  <tbody>\n",
       "  </tbody>\n",
       "</table>\n",
       "</div>"
      ],
      "text/plain": [
       "Empty DataFrame\n",
       "Columns: []\n",
       "Index: []"
      ]
     },
     "execution_count": 38,
     "metadata": {},
     "output_type": "execute_result"
    }
   ],
   "source": [
    "rd.get_history(\n",
    "    universe=['LCOH2^2'],\n",
    "    # fields=[\"TRDPRC_1\"],\n",
    "    interval=\"1D\",\n",
    "    start=\"2022-02-01\",\n",
    "    end=\"2022-03-30\",\n",
    ")"
   ]
  },
  {
   "cell_type": "markdown",
   "id": "3af8d5b9-1af0-44b7-80b0-a35d0a465084",
   "metadata": {},
   "source": [
    "## Experiment with multiple futures for different years and months"
   ]
  },
  {
   "cell_type": "code",
   "execution_count": 7,
   "id": "ed277adf-6e20-411d-a9cb-bf07ba70b830",
   "metadata": {},
   "outputs": [],
   "source": [
    "# load futures list from excel\n",
    "futures = pd.read_excel('futures.xlsx')"
   ]
  },
  {
   "cell_type": "code",
   "execution_count": 33,
   "id": "318b531d-e3ea-4d68-82c6-57ef213093b7",
   "metadata": {},
   "outputs": [],
   "source": [
    "# get the future chains from instrument sheet to derive underlying RICs\n",
    "futures_chains= futures.loc[futures['Instrument'] == 'FUTURE' ]['RIC'].to_list()"
   ]
  },
  {
   "cell_type": "code",
   "execution_count": 34,
   "id": "5eb40cf2-42db-4c1f-bb24-cb3d45dd1ea3",
   "metadata": {},
   "outputs": [
    {
     "data": {
      "text/plain": [
       "91"
      ]
     },
     "execution_count": 34,
     "metadata": {},
     "output_type": "execute_result"
    }
   ],
   "source": [
    "len(futures_chains)"
   ]
  },
  {
   "cell_type": "code",
   "execution_count": 35,
   "id": "2d1bee33-b78f-4d3f-abb4-7f488c87b2be",
   "metadata": {},
   "outputs": [],
   "source": [
    "# get underlyings from future chains\n",
    "import re\n",
    "s = '0#AD:'\n",
    "underlyings = []\n",
    "for ric in futures_chains:\n",
    "    underlyings.append(re.search(r'#(.*?):', ric).group(1))"
   ]
  },
  {
   "cell_type": "code",
   "execution_count": 36,
   "id": "2e53e48a-59b0-47d8-be3d-9d642963035d",
   "metadata": {},
   "outputs": [
    {
     "data": {
      "text/plain": [
       "91"
      ]
     },
     "execution_count": 36,
     "metadata": {},
     "output_type": "execute_result"
    }
   ],
   "source": [
    "len(underlyings)"
   ]
  },
  {
   "cell_type": "code",
   "execution_count": null,
   "id": "52e25541-826e-47ef-8555-01f292c9ad36",
   "metadata": {},
   "outputs": [],
   "source": [
    "#test the results - this is mostly done to make sure we are not getting several responses for any of the underlying for the specified periods\n",
    "months = ['F', 'G', 'H', 'J', 'K', 'M', 'N', 'Q', 'U', 'V', 'X', 'Z']\n",
    "\n",
    "several_responses = []\n",
    "no_response = []\n",
    "rics = []\n",
    "for underlying in underlyings:\n",
    "    \n",
    "    for i in range(2010, 2023):\n",
    "        print(i)\n",
    "        for month in months:\n",
    "            try:\n",
    "                response = fr.get_future_ric(underlying, 'H', 2022)\n",
    "                if response is not None:\n",
    "                    if len(response) == 1:\n",
    "                        rics.append(response['RIC'][0])\n",
    "                    elif len(response) > 1:\n",
    "                        several_responses.append(underlying)\n",
    "                else:\n",
    "                    print(underlying, 'No response')\n",
    "                    no_response.append(underlying)\n",
    "            except:\n",
    "                continue\n",
    "    print(underlying, len(rics), len(several_responses))"
   ]
  },
  {
   "cell_type": "code",
   "execution_count": 37,
   "id": "e2a955c0-255e-40a8-a164-980e84021f60",
   "metadata": {},
   "outputs": [
    {
     "data": {
      "text/plain": [
       "array(['DOL', 'FSS', 'IND', 'MCU', 'NG', 'STW', 'XU030'], dtype='<U5')"
      ]
     },
     "execution_count": 37,
     "metadata": {},
     "output_type": "execute_result"
    }
   ],
   "source": [
    "import numpy as np\n",
    "np.unique(np.array(no_response))"
   ]
  },
  {
   "cell_type": "code",
   "execution_count": null,
   "id": "04a68cce-e8ed-4b10-8230-142f0ff09117",
   "metadata": {},
   "outputs": [],
   "source": []
  }
 ],
 "metadata": {
  "kernelspec": {
   "display_name": "Python 3 (ipykernel)",
   "language": "python",
   "name": "python3"
  },
  "language_info": {
   "codemirror_mode": {
    "name": "ipython",
    "version": 3
   },
   "file_extension": ".py",
   "mimetype": "text/x-python",
   "name": "python",
   "nbconvert_exporter": "python",
   "pygments_lexer": "ipython3",
   "version": "3.9.13"
  }
 },
 "nbformat": 4,
 "nbformat_minor": 5
}
